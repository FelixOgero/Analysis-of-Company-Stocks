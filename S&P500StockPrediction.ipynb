{
  "cells": [
    {
      "cell_type": "markdown",
      "metadata": {
        "id": "view-in-github",
        "colab_type": "text"
      },
      "source": [
        "<a href=\"https://colab.research.google.com/github/FelixOgero/Analysis-of-Company-Stocks/blob/main/S%26P500StockPrediction.ipynb\" target=\"_parent\"><img src=\"https://colab.research.google.com/assets/colab-badge.svg\" alt=\"Open In Colab\"/></a>"
      ]
    },
    {
      "cell_type": "code",
      "execution_count": null,
      "metadata": {
        "colab": {
          "base_uri": "https://localhost:8080/"
        },
        "id": "daCTPD9trBdV",
        "outputId": "3c018b86-dc7d-46f5-ac3a-3f7ff5ba8c38"
      },
      "outputs": [
        {
          "output_type": "stream",
          "name": "stdout",
          "text": [
            "Requirement already satisfied: scikit-learn in /usr/local/lib/python3.10/dist-packages (1.2.2)\n",
            "Requirement already satisfied: numpy>=1.17.3 in /usr/local/lib/python3.10/dist-packages (from scikit-learn) (1.23.5)\n",
            "Requirement already satisfied: scipy>=1.3.2 in /usr/local/lib/python3.10/dist-packages (from scikit-learn) (1.11.4)\n",
            "Requirement already satisfied: joblib>=1.1.1 in /usr/local/lib/python3.10/dist-packages (from scikit-learn) (1.3.2)\n",
            "Requirement already satisfied: threadpoolctl>=2.0.0 in /usr/local/lib/python3.10/dist-packages (from scikit-learn) (3.2.0)\n"
          ]
        }
      ],
      "source": [
        "# Install scikit learn\n",
        "!pip install scikit-learn"
      ]
    },
    {
      "cell_type": "code",
      "execution_count": null,
      "metadata": {
        "id": "LqH32H0n07h9"
      },
      "outputs": [],
      "source": [
        "# Import the necessary libraries\n",
        "import yfinance as yf\n",
        "import pandas as pd\n",
        "import xgboost as xgb\n",
        "import matplotlib.pyplot as plt"
      ]
    },
    {
      "cell_type": "code",
      "execution_count": null,
      "metadata": {
        "colab": {
          "base_uri": "https://localhost:8080/",
          "height": 472
        },
        "id": "v8soLpo01V12",
        "outputId": "cd2b7ef0-62f6-4c65-a610-67cbbaf7e25b"
      },
      "outputs": [
        {
          "output_type": "stream",
          "name": "stderr",
          "text": [
            "\r[*********************100%%**********************]  1 of 1 completed\n"
          ]
        },
        {
          "output_type": "execute_result",
          "data": {
            "text/plain": [
              "                   Open         High          Low        Close    Adj Close  \\\n",
              "Date                                                                          \n",
              "1990-01-02   353.399994   359.690002   351.980011   359.690002   359.690002   \n",
              "1990-01-03   359.690002   360.589996   357.890015   358.760010   358.760010   \n",
              "1990-01-04   358.760010   358.760010   352.890015   355.670013   355.670013   \n",
              "1990-01-05   355.670013   355.670013   351.350006   352.200012   352.200012   \n",
              "1990-01-08   352.200012   354.239990   350.540009   353.790009   353.790009   \n",
              "...                 ...          ...          ...          ...          ...   \n",
              "2023-12-22  4753.919922  4772.939941  4736.770020  4754.629883  4754.629883   \n",
              "2023-12-26  4758.859863  4784.720215  4758.450195  4774.750000  4774.750000   \n",
              "2023-12-27  4773.450195  4785.390137  4768.899902  4781.580078  4781.580078   \n",
              "2023-12-28  4786.439941  4793.299805  4780.979980  4783.350098  4783.350098   \n",
              "2023-12-29  4782.879883  4788.430176  4751.990234  4769.830078  4769.830078   \n",
              "\n",
              "                Volume  \n",
              "Date                    \n",
              "1990-01-02   162070000  \n",
              "1990-01-03   192330000  \n",
              "1990-01-04   177000000  \n",
              "1990-01-05   158530000  \n",
              "1990-01-08   140110000  \n",
              "...                ...  \n",
              "2023-12-22  3046770000  \n",
              "2023-12-26  2513910000  \n",
              "2023-12-27  2748450000  \n",
              "2023-12-28  2698860000  \n",
              "2023-12-29  3126060000  \n",
              "\n",
              "[8565 rows x 6 columns]"
            ],
            "text/html": [
              "\n",
              "  <div id=\"df-b5e8858e-18a2-4cd6-bae3-9af6cb45dcfa\" class=\"colab-df-container\">\n",
              "    <div>\n",
              "<style scoped>\n",
              "    .dataframe tbody tr th:only-of-type {\n",
              "        vertical-align: middle;\n",
              "    }\n",
              "\n",
              "    .dataframe tbody tr th {\n",
              "        vertical-align: top;\n",
              "    }\n",
              "\n",
              "    .dataframe thead th {\n",
              "        text-align: right;\n",
              "    }\n",
              "</style>\n",
              "<table border=\"1\" class=\"dataframe\">\n",
              "  <thead>\n",
              "    <tr style=\"text-align: right;\">\n",
              "      <th></th>\n",
              "      <th>Open</th>\n",
              "      <th>High</th>\n",
              "      <th>Low</th>\n",
              "      <th>Close</th>\n",
              "      <th>Adj Close</th>\n",
              "      <th>Volume</th>\n",
              "    </tr>\n",
              "    <tr>\n",
              "      <th>Date</th>\n",
              "      <th></th>\n",
              "      <th></th>\n",
              "      <th></th>\n",
              "      <th></th>\n",
              "      <th></th>\n",
              "      <th></th>\n",
              "    </tr>\n",
              "  </thead>\n",
              "  <tbody>\n",
              "    <tr>\n",
              "      <th>1990-01-02</th>\n",
              "      <td>353.399994</td>\n",
              "      <td>359.690002</td>\n",
              "      <td>351.980011</td>\n",
              "      <td>359.690002</td>\n",
              "      <td>359.690002</td>\n",
              "      <td>162070000</td>\n",
              "    </tr>\n",
              "    <tr>\n",
              "      <th>1990-01-03</th>\n",
              "      <td>359.690002</td>\n",
              "      <td>360.589996</td>\n",
              "      <td>357.890015</td>\n",
              "      <td>358.760010</td>\n",
              "      <td>358.760010</td>\n",
              "      <td>192330000</td>\n",
              "    </tr>\n",
              "    <tr>\n",
              "      <th>1990-01-04</th>\n",
              "      <td>358.760010</td>\n",
              "      <td>358.760010</td>\n",
              "      <td>352.890015</td>\n",
              "      <td>355.670013</td>\n",
              "      <td>355.670013</td>\n",
              "      <td>177000000</td>\n",
              "    </tr>\n",
              "    <tr>\n",
              "      <th>1990-01-05</th>\n",
              "      <td>355.670013</td>\n",
              "      <td>355.670013</td>\n",
              "      <td>351.350006</td>\n",
              "      <td>352.200012</td>\n",
              "      <td>352.200012</td>\n",
              "      <td>158530000</td>\n",
              "    </tr>\n",
              "    <tr>\n",
              "      <th>1990-01-08</th>\n",
              "      <td>352.200012</td>\n",
              "      <td>354.239990</td>\n",
              "      <td>350.540009</td>\n",
              "      <td>353.790009</td>\n",
              "      <td>353.790009</td>\n",
              "      <td>140110000</td>\n",
              "    </tr>\n",
              "    <tr>\n",
              "      <th>...</th>\n",
              "      <td>...</td>\n",
              "      <td>...</td>\n",
              "      <td>...</td>\n",
              "      <td>...</td>\n",
              "      <td>...</td>\n",
              "      <td>...</td>\n",
              "    </tr>\n",
              "    <tr>\n",
              "      <th>2023-12-22</th>\n",
              "      <td>4753.919922</td>\n",
              "      <td>4772.939941</td>\n",
              "      <td>4736.770020</td>\n",
              "      <td>4754.629883</td>\n",
              "      <td>4754.629883</td>\n",
              "      <td>3046770000</td>\n",
              "    </tr>\n",
              "    <tr>\n",
              "      <th>2023-12-26</th>\n",
              "      <td>4758.859863</td>\n",
              "      <td>4784.720215</td>\n",
              "      <td>4758.450195</td>\n",
              "      <td>4774.750000</td>\n",
              "      <td>4774.750000</td>\n",
              "      <td>2513910000</td>\n",
              "    </tr>\n",
              "    <tr>\n",
              "      <th>2023-12-27</th>\n",
              "      <td>4773.450195</td>\n",
              "      <td>4785.390137</td>\n",
              "      <td>4768.899902</td>\n",
              "      <td>4781.580078</td>\n",
              "      <td>4781.580078</td>\n",
              "      <td>2748450000</td>\n",
              "    </tr>\n",
              "    <tr>\n",
              "      <th>2023-12-28</th>\n",
              "      <td>4786.439941</td>\n",
              "      <td>4793.299805</td>\n",
              "      <td>4780.979980</td>\n",
              "      <td>4783.350098</td>\n",
              "      <td>4783.350098</td>\n",
              "      <td>2698860000</td>\n",
              "    </tr>\n",
              "    <tr>\n",
              "      <th>2023-12-29</th>\n",
              "      <td>4782.879883</td>\n",
              "      <td>4788.430176</td>\n",
              "      <td>4751.990234</td>\n",
              "      <td>4769.830078</td>\n",
              "      <td>4769.830078</td>\n",
              "      <td>3126060000</td>\n",
              "    </tr>\n",
              "  </tbody>\n",
              "</table>\n",
              "<p>8565 rows × 6 columns</p>\n",
              "</div>\n",
              "    <div class=\"colab-df-buttons\">\n",
              "\n",
              "  <div class=\"colab-df-container\">\n",
              "    <button class=\"colab-df-convert\" onclick=\"convertToInteractive('df-b5e8858e-18a2-4cd6-bae3-9af6cb45dcfa')\"\n",
              "            title=\"Convert this dataframe to an interactive table.\"\n",
              "            style=\"display:none;\">\n",
              "\n",
              "  <svg xmlns=\"http://www.w3.org/2000/svg\" height=\"24px\" viewBox=\"0 -960 960 960\">\n",
              "    <path d=\"M120-120v-720h720v720H120Zm60-500h600v-160H180v160Zm220 220h160v-160H400v160Zm0 220h160v-160H400v160ZM180-400h160v-160H180v160Zm440 0h160v-160H620v160ZM180-180h160v-160H180v160Zm440 0h160v-160H620v160Z\"/>\n",
              "  </svg>\n",
              "    </button>\n",
              "\n",
              "  <style>\n",
              "    .colab-df-container {\n",
              "      display:flex;\n",
              "      gap: 12px;\n",
              "    }\n",
              "\n",
              "    .colab-df-convert {\n",
              "      background-color: #E8F0FE;\n",
              "      border: none;\n",
              "      border-radius: 50%;\n",
              "      cursor: pointer;\n",
              "      display: none;\n",
              "      fill: #1967D2;\n",
              "      height: 32px;\n",
              "      padding: 0 0 0 0;\n",
              "      width: 32px;\n",
              "    }\n",
              "\n",
              "    .colab-df-convert:hover {\n",
              "      background-color: #E2EBFA;\n",
              "      box-shadow: 0px 1px 2px rgba(60, 64, 67, 0.3), 0px 1px 3px 1px rgba(60, 64, 67, 0.15);\n",
              "      fill: #174EA6;\n",
              "    }\n",
              "\n",
              "    .colab-df-buttons div {\n",
              "      margin-bottom: 4px;\n",
              "    }\n",
              "\n",
              "    [theme=dark] .colab-df-convert {\n",
              "      background-color: #3B4455;\n",
              "      fill: #D2E3FC;\n",
              "    }\n",
              "\n",
              "    [theme=dark] .colab-df-convert:hover {\n",
              "      background-color: #434B5C;\n",
              "      box-shadow: 0px 1px 3px 1px rgba(0, 0, 0, 0.15);\n",
              "      filter: drop-shadow(0px 1px 2px rgba(0, 0, 0, 0.3));\n",
              "      fill: #FFFFFF;\n",
              "    }\n",
              "  </style>\n",
              "\n",
              "    <script>\n",
              "      const buttonEl =\n",
              "        document.querySelector('#df-b5e8858e-18a2-4cd6-bae3-9af6cb45dcfa button.colab-df-convert');\n",
              "      buttonEl.style.display =\n",
              "        google.colab.kernel.accessAllowed ? 'block' : 'none';\n",
              "\n",
              "      async function convertToInteractive(key) {\n",
              "        const element = document.querySelector('#df-b5e8858e-18a2-4cd6-bae3-9af6cb45dcfa');\n",
              "        const dataTable =\n",
              "          await google.colab.kernel.invokeFunction('convertToInteractive',\n",
              "                                                    [key], {});\n",
              "        if (!dataTable) return;\n",
              "\n",
              "        const docLinkHtml = 'Like what you see? Visit the ' +\n",
              "          '<a target=\"_blank\" href=https://colab.research.google.com/notebooks/data_table.ipynb>data table notebook</a>'\n",
              "          + ' to learn more about interactive tables.';\n",
              "        element.innerHTML = '';\n",
              "        dataTable['output_type'] = 'display_data';\n",
              "        await google.colab.output.renderOutput(dataTable, element);\n",
              "        const docLink = document.createElement('div');\n",
              "        docLink.innerHTML = docLinkHtml;\n",
              "        element.appendChild(docLink);\n",
              "      }\n",
              "    </script>\n",
              "  </div>\n",
              "\n",
              "\n",
              "<div id=\"df-6c8d7ad5-7e3c-4c7f-804f-dac957633043\">\n",
              "  <button class=\"colab-df-quickchart\" onclick=\"quickchart('df-6c8d7ad5-7e3c-4c7f-804f-dac957633043')\"\n",
              "            title=\"Suggest charts\"\n",
              "            style=\"display:none;\">\n",
              "\n",
              "<svg xmlns=\"http://www.w3.org/2000/svg\" height=\"24px\"viewBox=\"0 0 24 24\"\n",
              "     width=\"24px\">\n",
              "    <g>\n",
              "        <path d=\"M19 3H5c-1.1 0-2 .9-2 2v14c0 1.1.9 2 2 2h14c1.1 0 2-.9 2-2V5c0-1.1-.9-2-2-2zM9 17H7v-7h2v7zm4 0h-2V7h2v10zm4 0h-2v-4h2v4z\"/>\n",
              "    </g>\n",
              "</svg>\n",
              "  </button>\n",
              "\n",
              "<style>\n",
              "  .colab-df-quickchart {\n",
              "      --bg-color: #E8F0FE;\n",
              "      --fill-color: #1967D2;\n",
              "      --hover-bg-color: #E2EBFA;\n",
              "      --hover-fill-color: #174EA6;\n",
              "      --disabled-fill-color: #AAA;\n",
              "      --disabled-bg-color: #DDD;\n",
              "  }\n",
              "\n",
              "  [theme=dark] .colab-df-quickchart {\n",
              "      --bg-color: #3B4455;\n",
              "      --fill-color: #D2E3FC;\n",
              "      --hover-bg-color: #434B5C;\n",
              "      --hover-fill-color: #FFFFFF;\n",
              "      --disabled-bg-color: #3B4455;\n",
              "      --disabled-fill-color: #666;\n",
              "  }\n",
              "\n",
              "  .colab-df-quickchart {\n",
              "    background-color: var(--bg-color);\n",
              "    border: none;\n",
              "    border-radius: 50%;\n",
              "    cursor: pointer;\n",
              "    display: none;\n",
              "    fill: var(--fill-color);\n",
              "    height: 32px;\n",
              "    padding: 0;\n",
              "    width: 32px;\n",
              "  }\n",
              "\n",
              "  .colab-df-quickchart:hover {\n",
              "    background-color: var(--hover-bg-color);\n",
              "    box-shadow: 0 1px 2px rgba(60, 64, 67, 0.3), 0 1px 3px 1px rgba(60, 64, 67, 0.15);\n",
              "    fill: var(--button-hover-fill-color);\n",
              "  }\n",
              "\n",
              "  .colab-df-quickchart-complete:disabled,\n",
              "  .colab-df-quickchart-complete:disabled:hover {\n",
              "    background-color: var(--disabled-bg-color);\n",
              "    fill: var(--disabled-fill-color);\n",
              "    box-shadow: none;\n",
              "  }\n",
              "\n",
              "  .colab-df-spinner {\n",
              "    border: 2px solid var(--fill-color);\n",
              "    border-color: transparent;\n",
              "    border-bottom-color: var(--fill-color);\n",
              "    animation:\n",
              "      spin 1s steps(1) infinite;\n",
              "  }\n",
              "\n",
              "  @keyframes spin {\n",
              "    0% {\n",
              "      border-color: transparent;\n",
              "      border-bottom-color: var(--fill-color);\n",
              "      border-left-color: var(--fill-color);\n",
              "    }\n",
              "    20% {\n",
              "      border-color: transparent;\n",
              "      border-left-color: var(--fill-color);\n",
              "      border-top-color: var(--fill-color);\n",
              "    }\n",
              "    30% {\n",
              "      border-color: transparent;\n",
              "      border-left-color: var(--fill-color);\n",
              "      border-top-color: var(--fill-color);\n",
              "      border-right-color: var(--fill-color);\n",
              "    }\n",
              "    40% {\n",
              "      border-color: transparent;\n",
              "      border-right-color: var(--fill-color);\n",
              "      border-top-color: var(--fill-color);\n",
              "    }\n",
              "    60% {\n",
              "      border-color: transparent;\n",
              "      border-right-color: var(--fill-color);\n",
              "    }\n",
              "    80% {\n",
              "      border-color: transparent;\n",
              "      border-right-color: var(--fill-color);\n",
              "      border-bottom-color: var(--fill-color);\n",
              "    }\n",
              "    90% {\n",
              "      border-color: transparent;\n",
              "      border-bottom-color: var(--fill-color);\n",
              "    }\n",
              "  }\n",
              "</style>\n",
              "\n",
              "  <script>\n",
              "    async function quickchart(key) {\n",
              "      const quickchartButtonEl =\n",
              "        document.querySelector('#' + key + ' button');\n",
              "      quickchartButtonEl.disabled = true;  // To prevent multiple clicks.\n",
              "      quickchartButtonEl.classList.add('colab-df-spinner');\n",
              "      try {\n",
              "        const charts = await google.colab.kernel.invokeFunction(\n",
              "            'suggestCharts', [key], {});\n",
              "      } catch (error) {\n",
              "        console.error('Error during call to suggestCharts:', error);\n",
              "      }\n",
              "      quickchartButtonEl.classList.remove('colab-df-spinner');\n",
              "      quickchartButtonEl.classList.add('colab-df-quickchart-complete');\n",
              "    }\n",
              "    (() => {\n",
              "      let quickchartButtonEl =\n",
              "        document.querySelector('#df-6c8d7ad5-7e3c-4c7f-804f-dac957633043 button');\n",
              "      quickchartButtonEl.style.display =\n",
              "        google.colab.kernel.accessAllowed ? 'block' : 'none';\n",
              "    })();\n",
              "  </script>\n",
              "</div>\n",
              "\n",
              "  <div id=\"id_1f88f54b-3f11-481f-af1e-80a7fac1bda6\">\n",
              "    <style>\n",
              "      .colab-df-generate {\n",
              "        background-color: #E8F0FE;\n",
              "        border: none;\n",
              "        border-radius: 50%;\n",
              "        cursor: pointer;\n",
              "        display: none;\n",
              "        fill: #1967D2;\n",
              "        height: 32px;\n",
              "        padding: 0 0 0 0;\n",
              "        width: 32px;\n",
              "      }\n",
              "\n",
              "      .colab-df-generate:hover {\n",
              "        background-color: #E2EBFA;\n",
              "        box-shadow: 0px 1px 2px rgba(60, 64, 67, 0.3), 0px 1px 3px 1px rgba(60, 64, 67, 0.15);\n",
              "        fill: #174EA6;\n",
              "      }\n",
              "\n",
              "      [theme=dark] .colab-df-generate {\n",
              "        background-color: #3B4455;\n",
              "        fill: #D2E3FC;\n",
              "      }\n",
              "\n",
              "      [theme=dark] .colab-df-generate:hover {\n",
              "        background-color: #434B5C;\n",
              "        box-shadow: 0px 1px 3px 1px rgba(0, 0, 0, 0.15);\n",
              "        filter: drop-shadow(0px 1px 2px rgba(0, 0, 0, 0.3));\n",
              "        fill: #FFFFFF;\n",
              "      }\n",
              "    </style>\n",
              "    <button class=\"colab-df-generate\" onclick=\"generateWithVariable('data')\"\n",
              "            title=\"Generate code using this dataframe.\"\n",
              "            style=\"display:none;\">\n",
              "\n",
              "  <svg xmlns=\"http://www.w3.org/2000/svg\" height=\"24px\"viewBox=\"0 0 24 24\"\n",
              "       width=\"24px\">\n",
              "    <path d=\"M7,19H8.4L18.45,9,17,7.55,7,17.6ZM5,21V16.75L18.45,3.32a2,2,0,0,1,2.83,0l1.4,1.43a1.91,1.91,0,0,1,.58,1.4,1.91,1.91,0,0,1-.58,1.4L9.25,21ZM18.45,9,17,7.55Zm-12,3A5.31,5.31,0,0,0,4.9,8.1,5.31,5.31,0,0,0,1,6.5,5.31,5.31,0,0,0,4.9,4.9,5.31,5.31,0,0,0,6.5,1,5.31,5.31,0,0,0,8.1,4.9,5.31,5.31,0,0,0,12,6.5,5.46,5.46,0,0,0,6.5,12Z\"/>\n",
              "  </svg>\n",
              "    </button>\n",
              "    <script>\n",
              "      (() => {\n",
              "      const buttonEl =\n",
              "        document.querySelector('#id_1f88f54b-3f11-481f-af1e-80a7fac1bda6 button.colab-df-generate');\n",
              "      buttonEl.style.display =\n",
              "        google.colab.kernel.accessAllowed ? 'block' : 'none';\n",
              "\n",
              "      buttonEl.onclick = () => {\n",
              "        google.colab.notebook.generateWithVariable('data');\n",
              "      }\n",
              "      })();\n",
              "    </script>\n",
              "  </div>\n",
              "\n",
              "    </div>\n",
              "  </div>\n"
            ]
          },
          "metadata": {},
          "execution_count": 3
        }
      ],
      "source": [
        "# Download the S&P500 data\n",
        "data = yf.download(\"^GSPC\", start=\"1990-01-01\", end=\"2024-01-01\")\n",
        "data"
      ]
    },
    {
      "cell_type": "code",
      "execution_count": null,
      "metadata": {
        "colab": {
          "base_uri": "https://localhost:8080/",
          "height": 300
        },
        "id": "SgH9Bgre23ml",
        "outputId": "448c60fd-3691-4394-adcd-f01e3025e479"
      },
      "outputs": [
        {
          "output_type": "execute_result",
          "data": {
            "text/plain": [
              "              Open         High          Low        Close    Adj Close  \\\n",
              "count  8565.000000  8565.000000  8565.000000  8565.000000  8565.000000   \n",
              "mean   1583.568097  1592.942337  1573.574951  1583.898693  1583.898693   \n",
              "std    1089.338157  1095.204538  1083.145746  1089.516200  1089.516200   \n",
              "min     295.450012   301.450012   294.510010   295.459991   295.459991   \n",
              "25%     894.739990   905.840027   883.020020   896.140015   896.140015   \n",
              "50%    1267.930054  1275.800049  1259.869995  1267.650024  1267.650024   \n",
              "75%    2048.639893  2061.229980  2041.099976  2049.800049  2049.800049   \n",
              "max    4804.509766  4818.620117  4780.979980  4796.560059  4796.560059   \n",
              "\n",
              "             Volume  \n",
              "count  8.565000e+03  \n",
              "mean   2.459029e+09  \n",
              "std    1.849476e+09  \n",
              "min    1.499000e+07  \n",
              "25%    6.428000e+08  \n",
              "50%    2.494590e+09  \n",
              "75%    3.831020e+09  \n",
              "max    1.145623e+10  "
            ],
            "text/html": [
              "\n",
              "  <div id=\"df-934fbd96-7b9e-4cd8-9887-ba443767faf4\" class=\"colab-df-container\">\n",
              "    <div>\n",
              "<style scoped>\n",
              "    .dataframe tbody tr th:only-of-type {\n",
              "        vertical-align: middle;\n",
              "    }\n",
              "\n",
              "    .dataframe tbody tr th {\n",
              "        vertical-align: top;\n",
              "    }\n",
              "\n",
              "    .dataframe thead th {\n",
              "        text-align: right;\n",
              "    }\n",
              "</style>\n",
              "<table border=\"1\" class=\"dataframe\">\n",
              "  <thead>\n",
              "    <tr style=\"text-align: right;\">\n",
              "      <th></th>\n",
              "      <th>Open</th>\n",
              "      <th>High</th>\n",
              "      <th>Low</th>\n",
              "      <th>Close</th>\n",
              "      <th>Adj Close</th>\n",
              "      <th>Volume</th>\n",
              "    </tr>\n",
              "  </thead>\n",
              "  <tbody>\n",
              "    <tr>\n",
              "      <th>count</th>\n",
              "      <td>8565.000000</td>\n",
              "      <td>8565.000000</td>\n",
              "      <td>8565.000000</td>\n",
              "      <td>8565.000000</td>\n",
              "      <td>8565.000000</td>\n",
              "      <td>8.565000e+03</td>\n",
              "    </tr>\n",
              "    <tr>\n",
              "      <th>mean</th>\n",
              "      <td>1583.568097</td>\n",
              "      <td>1592.942337</td>\n",
              "      <td>1573.574951</td>\n",
              "      <td>1583.898693</td>\n",
              "      <td>1583.898693</td>\n",
              "      <td>2.459029e+09</td>\n",
              "    </tr>\n",
              "    <tr>\n",
              "      <th>std</th>\n",
              "      <td>1089.338157</td>\n",
              "      <td>1095.204538</td>\n",
              "      <td>1083.145746</td>\n",
              "      <td>1089.516200</td>\n",
              "      <td>1089.516200</td>\n",
              "      <td>1.849476e+09</td>\n",
              "    </tr>\n",
              "    <tr>\n",
              "      <th>min</th>\n",
              "      <td>295.450012</td>\n",
              "      <td>301.450012</td>\n",
              "      <td>294.510010</td>\n",
              "      <td>295.459991</td>\n",
              "      <td>295.459991</td>\n",
              "      <td>1.499000e+07</td>\n",
              "    </tr>\n",
              "    <tr>\n",
              "      <th>25%</th>\n",
              "      <td>894.739990</td>\n",
              "      <td>905.840027</td>\n",
              "      <td>883.020020</td>\n",
              "      <td>896.140015</td>\n",
              "      <td>896.140015</td>\n",
              "      <td>6.428000e+08</td>\n",
              "    </tr>\n",
              "    <tr>\n",
              "      <th>50%</th>\n",
              "      <td>1267.930054</td>\n",
              "      <td>1275.800049</td>\n",
              "      <td>1259.869995</td>\n",
              "      <td>1267.650024</td>\n",
              "      <td>1267.650024</td>\n",
              "      <td>2.494590e+09</td>\n",
              "    </tr>\n",
              "    <tr>\n",
              "      <th>75%</th>\n",
              "      <td>2048.639893</td>\n",
              "      <td>2061.229980</td>\n",
              "      <td>2041.099976</td>\n",
              "      <td>2049.800049</td>\n",
              "      <td>2049.800049</td>\n",
              "      <td>3.831020e+09</td>\n",
              "    </tr>\n",
              "    <tr>\n",
              "      <th>max</th>\n",
              "      <td>4804.509766</td>\n",
              "      <td>4818.620117</td>\n",
              "      <td>4780.979980</td>\n",
              "      <td>4796.560059</td>\n",
              "      <td>4796.560059</td>\n",
              "      <td>1.145623e+10</td>\n",
              "    </tr>\n",
              "  </tbody>\n",
              "</table>\n",
              "</div>\n",
              "    <div class=\"colab-df-buttons\">\n",
              "\n",
              "  <div class=\"colab-df-container\">\n",
              "    <button class=\"colab-df-convert\" onclick=\"convertToInteractive('df-934fbd96-7b9e-4cd8-9887-ba443767faf4')\"\n",
              "            title=\"Convert this dataframe to an interactive table.\"\n",
              "            style=\"display:none;\">\n",
              "\n",
              "  <svg xmlns=\"http://www.w3.org/2000/svg\" height=\"24px\" viewBox=\"0 -960 960 960\">\n",
              "    <path d=\"M120-120v-720h720v720H120Zm60-500h600v-160H180v160Zm220 220h160v-160H400v160Zm0 220h160v-160H400v160ZM180-400h160v-160H180v160Zm440 0h160v-160H620v160ZM180-180h160v-160H180v160Zm440 0h160v-160H620v160Z\"/>\n",
              "  </svg>\n",
              "    </button>\n",
              "\n",
              "  <style>\n",
              "    .colab-df-container {\n",
              "      display:flex;\n",
              "      gap: 12px;\n",
              "    }\n",
              "\n",
              "    .colab-df-convert {\n",
              "      background-color: #E8F0FE;\n",
              "      border: none;\n",
              "      border-radius: 50%;\n",
              "      cursor: pointer;\n",
              "      display: none;\n",
              "      fill: #1967D2;\n",
              "      height: 32px;\n",
              "      padding: 0 0 0 0;\n",
              "      width: 32px;\n",
              "    }\n",
              "\n",
              "    .colab-df-convert:hover {\n",
              "      background-color: #E2EBFA;\n",
              "      box-shadow: 0px 1px 2px rgba(60, 64, 67, 0.3), 0px 1px 3px 1px rgba(60, 64, 67, 0.15);\n",
              "      fill: #174EA6;\n",
              "    }\n",
              "\n",
              "    .colab-df-buttons div {\n",
              "      margin-bottom: 4px;\n",
              "    }\n",
              "\n",
              "    [theme=dark] .colab-df-convert {\n",
              "      background-color: #3B4455;\n",
              "      fill: #D2E3FC;\n",
              "    }\n",
              "\n",
              "    [theme=dark] .colab-df-convert:hover {\n",
              "      background-color: #434B5C;\n",
              "      box-shadow: 0px 1px 3px 1px rgba(0, 0, 0, 0.15);\n",
              "      filter: drop-shadow(0px 1px 2px rgba(0, 0, 0, 0.3));\n",
              "      fill: #FFFFFF;\n",
              "    }\n",
              "  </style>\n",
              "\n",
              "    <script>\n",
              "      const buttonEl =\n",
              "        document.querySelector('#df-934fbd96-7b9e-4cd8-9887-ba443767faf4 button.colab-df-convert');\n",
              "      buttonEl.style.display =\n",
              "        google.colab.kernel.accessAllowed ? 'block' : 'none';\n",
              "\n",
              "      async function convertToInteractive(key) {\n",
              "        const element = document.querySelector('#df-934fbd96-7b9e-4cd8-9887-ba443767faf4');\n",
              "        const dataTable =\n",
              "          await google.colab.kernel.invokeFunction('convertToInteractive',\n",
              "                                                    [key], {});\n",
              "        if (!dataTable) return;\n",
              "\n",
              "        const docLinkHtml = 'Like what you see? Visit the ' +\n",
              "          '<a target=\"_blank\" href=https://colab.research.google.com/notebooks/data_table.ipynb>data table notebook</a>'\n",
              "          + ' to learn more about interactive tables.';\n",
              "        element.innerHTML = '';\n",
              "        dataTable['output_type'] = 'display_data';\n",
              "        await google.colab.output.renderOutput(dataTable, element);\n",
              "        const docLink = document.createElement('div');\n",
              "        docLink.innerHTML = docLinkHtml;\n",
              "        element.appendChild(docLink);\n",
              "      }\n",
              "    </script>\n",
              "  </div>\n",
              "\n",
              "\n",
              "<div id=\"df-e83a147b-63e8-467d-bbc6-cfc56526c60a\">\n",
              "  <button class=\"colab-df-quickchart\" onclick=\"quickchart('df-e83a147b-63e8-467d-bbc6-cfc56526c60a')\"\n",
              "            title=\"Suggest charts\"\n",
              "            style=\"display:none;\">\n",
              "\n",
              "<svg xmlns=\"http://www.w3.org/2000/svg\" height=\"24px\"viewBox=\"0 0 24 24\"\n",
              "     width=\"24px\">\n",
              "    <g>\n",
              "        <path d=\"M19 3H5c-1.1 0-2 .9-2 2v14c0 1.1.9 2 2 2h14c1.1 0 2-.9 2-2V5c0-1.1-.9-2-2-2zM9 17H7v-7h2v7zm4 0h-2V7h2v10zm4 0h-2v-4h2v4z\"/>\n",
              "    </g>\n",
              "</svg>\n",
              "  </button>\n",
              "\n",
              "<style>\n",
              "  .colab-df-quickchart {\n",
              "      --bg-color: #E8F0FE;\n",
              "      --fill-color: #1967D2;\n",
              "      --hover-bg-color: #E2EBFA;\n",
              "      --hover-fill-color: #174EA6;\n",
              "      --disabled-fill-color: #AAA;\n",
              "      --disabled-bg-color: #DDD;\n",
              "  }\n",
              "\n",
              "  [theme=dark] .colab-df-quickchart {\n",
              "      --bg-color: #3B4455;\n",
              "      --fill-color: #D2E3FC;\n",
              "      --hover-bg-color: #434B5C;\n",
              "      --hover-fill-color: #FFFFFF;\n",
              "      --disabled-bg-color: #3B4455;\n",
              "      --disabled-fill-color: #666;\n",
              "  }\n",
              "\n",
              "  .colab-df-quickchart {\n",
              "    background-color: var(--bg-color);\n",
              "    border: none;\n",
              "    border-radius: 50%;\n",
              "    cursor: pointer;\n",
              "    display: none;\n",
              "    fill: var(--fill-color);\n",
              "    height: 32px;\n",
              "    padding: 0;\n",
              "    width: 32px;\n",
              "  }\n",
              "\n",
              "  .colab-df-quickchart:hover {\n",
              "    background-color: var(--hover-bg-color);\n",
              "    box-shadow: 0 1px 2px rgba(60, 64, 67, 0.3), 0 1px 3px 1px rgba(60, 64, 67, 0.15);\n",
              "    fill: var(--button-hover-fill-color);\n",
              "  }\n",
              "\n",
              "  .colab-df-quickchart-complete:disabled,\n",
              "  .colab-df-quickchart-complete:disabled:hover {\n",
              "    background-color: var(--disabled-bg-color);\n",
              "    fill: var(--disabled-fill-color);\n",
              "    box-shadow: none;\n",
              "  }\n",
              "\n",
              "  .colab-df-spinner {\n",
              "    border: 2px solid var(--fill-color);\n",
              "    border-color: transparent;\n",
              "    border-bottom-color: var(--fill-color);\n",
              "    animation:\n",
              "      spin 1s steps(1) infinite;\n",
              "  }\n",
              "\n",
              "  @keyframes spin {\n",
              "    0% {\n",
              "      border-color: transparent;\n",
              "      border-bottom-color: var(--fill-color);\n",
              "      border-left-color: var(--fill-color);\n",
              "    }\n",
              "    20% {\n",
              "      border-color: transparent;\n",
              "      border-left-color: var(--fill-color);\n",
              "      border-top-color: var(--fill-color);\n",
              "    }\n",
              "    30% {\n",
              "      border-color: transparent;\n",
              "      border-left-color: var(--fill-color);\n",
              "      border-top-color: var(--fill-color);\n",
              "      border-right-color: var(--fill-color);\n",
              "    }\n",
              "    40% {\n",
              "      border-color: transparent;\n",
              "      border-right-color: var(--fill-color);\n",
              "      border-top-color: var(--fill-color);\n",
              "    }\n",
              "    60% {\n",
              "      border-color: transparent;\n",
              "      border-right-color: var(--fill-color);\n",
              "    }\n",
              "    80% {\n",
              "      border-color: transparent;\n",
              "      border-right-color: var(--fill-color);\n",
              "      border-bottom-color: var(--fill-color);\n",
              "    }\n",
              "    90% {\n",
              "      border-color: transparent;\n",
              "      border-bottom-color: var(--fill-color);\n",
              "    }\n",
              "  }\n",
              "</style>\n",
              "\n",
              "  <script>\n",
              "    async function quickchart(key) {\n",
              "      const quickchartButtonEl =\n",
              "        document.querySelector('#' + key + ' button');\n",
              "      quickchartButtonEl.disabled = true;  // To prevent multiple clicks.\n",
              "      quickchartButtonEl.classList.add('colab-df-spinner');\n",
              "      try {\n",
              "        const charts = await google.colab.kernel.invokeFunction(\n",
              "            'suggestCharts', [key], {});\n",
              "      } catch (error) {\n",
              "        console.error('Error during call to suggestCharts:', error);\n",
              "      }\n",
              "      quickchartButtonEl.classList.remove('colab-df-spinner');\n",
              "      quickchartButtonEl.classList.add('colab-df-quickchart-complete');\n",
              "    }\n",
              "    (() => {\n",
              "      let quickchartButtonEl =\n",
              "        document.querySelector('#df-e83a147b-63e8-467d-bbc6-cfc56526c60a button');\n",
              "      quickchartButtonEl.style.display =\n",
              "        google.colab.kernel.accessAllowed ? 'block' : 'none';\n",
              "    })();\n",
              "  </script>\n",
              "</div>\n",
              "\n",
              "    </div>\n",
              "  </div>\n"
            ]
          },
          "metadata": {},
          "execution_count": 4
        }
      ],
      "source": [
        "# Descriptive statistics\n",
        "data.describe()"
      ]
    },
    {
      "cell_type": "code",
      "execution_count": null,
      "metadata": {
        "colab": {
          "base_uri": "https://localhost:8080/",
          "height": 443
        },
        "id": "cllCqECT3CpV",
        "outputId": "01e0ace0-e06e-4d71-f617-bce8ebd316ae"
      },
      "outputs": [
        {
          "output_type": "execute_result",
          "data": {
            "text/plain": [
              "<Axes: xlabel='Date'>"
            ]
          },
          "metadata": {},
          "execution_count": 5
        },
        {
          "output_type": "display_data",
          "data": {
            "text/plain": [
              "<Figure size 640x480 with 1 Axes>"
            ],
            "image/png": "[encoded data removed]"
          },
          "metadata": {}
        }
      ],
      "source": [
        "# Plot the close price\n",
        "data[\"Close\"].plot()"
      ]
    },
    {
      "cell_type": "code",
      "execution_count": null,
      "metadata": {
        "id": "QJ6SuEGN3syT"
      },
      "outputs": [],
      "source": [
        "# Split the data into train and test data tests\n",
        "train_data = data.iloc[:int(.95 * len(data)), :]\n",
        "test_data = data.iloc[int(.95 * len(data)):, :]"
      ]
    },
    {
      "cell_type": "code",
      "execution_count": null,
      "metadata": {
        "id": "2fqFmIzb4qLj"
      },
      "outputs": [],
      "source": [
        "# Define the features and target variable\n",
        "features = ['Open', 'High', 'Low']\n",
        "target = 'Close'"
      ]
    },
    {
      "cell_type": "code",
      "execution_count": null,
      "metadata": {
        "colab": {
          "base_uri": "https://localhost:8080/",
          "height": 248
        },
        "id": "sYgQzfEn48nk",
        "outputId": "3adb89fd-a2f7-4b33-9ddb-1b1a74a86782"
      },
      "outputs": [
        {
          "output_type": "execute_result",
          "data": {
            "text/plain": [
              "XGBRegressor(base_score=None, booster=None, callbacks=None,\n",
              "             colsample_bylevel=None, colsample_bynode=None,\n",
              "             colsample_bytree=None, device=None, early_stopping_rounds=None,\n",
              "             enable_categorical=False, eval_metric=None, feature_types=None,\n",
              "             gamma=None, grow_policy=None, importance_type=None,\n",
              "             interaction_constraints=None, learning_rate=None, max_bin=None,\n",
              "             max_cat_threshold=None, max_cat_to_onehot=None,\n",
              "             max_delta_step=None, max_depth=None, max_leaves=None,\n",
              "             min_child_weight=None, missing=nan, monotone_constraints=None,\n",
              "             multi_strategy=None, n_estimators=None, n_jobs=None,\n",
              "             num_parallel_tree=None, random_state=None, ...)"
            ],
            "text/html": [
              "<style>#sk-container-id-2 {color: black;background-color: white;}#sk-container-id-2 pre{padding: 0;}#sk-container-id-2 div.sk-toggleable {background-color: white;}#sk-container-id-2 label.sk-toggleable__label {cursor: pointer;display: block;width: 100%;margin-bottom: 0;padding: 0.3em;box-sizing: border-box;text-align: center;}#sk-container-id-2 label.sk-toggleable__label-arrow:before {content: \"▸\";float: left;margin-right: 0.25em;color: #696969;}#sk-container-id-2 label.sk-toggleable__label-arrow:hover:before {color: black;}#sk-container-id-2 div.sk-estimator:hover label.sk-toggleable__label-arrow:before {color: black;}#sk-container-id-2 div.sk-toggleable__content {max-height: 0;max-width: 0;overflow: hidden;text-align: left;background-color: #f0f8ff;}#sk-container-id-2 div.sk-toggleable__content pre {margin: 0.2em;color: black;border-radius: 0.25em;background-color: #f0f8ff;}#sk-container-id-2 input.sk-toggleable__control:checked~div.sk-toggleable__content {max-height: 200px;max-width: 100%;overflow: auto;}#sk-container-id-2 input.sk-toggleable__control:checked~label.sk-toggleable__label-arrow:before {content: \"▾\";}#sk-container-id-2 div.sk-estimator input.sk-toggleable__control:checked~label.sk-toggleable__label {background-color: #d4ebff;}#sk-container-id-2 div.sk-label input.sk-toggleable__control:checked~label.sk-toggleable__label {background-color: #d4ebff;}#sk-container-id-2 input.sk-hidden--visually {border: 0;clip: rect(1px 1px 1px 1px);clip: rect(1px, 1px, 1px, 1px);height: 1px;margin: -1px;overflow: hidden;padding: 0;position: absolute;width: 1px;}#sk-container-id-2 div.sk-estimator {font-family: monospace;background-color: #f0f8ff;border: 1px dotted black;border-radius: 0.25em;box-sizing: border-box;margin-bottom: 0.5em;}#sk-container-id-2 div.sk-estimator:hover {background-color: #d4ebff;}#sk-container-id-2 div.sk-parallel-item::after {content: \"\";width: 100%;border-bottom: 1px solid gray;flex-grow: 1;}#sk-container-id-2 div.sk-label:hover label.sk-toggleable__label {background-color: #d4ebff;}#sk-container-id-2 div.sk-serial::before {content: \"\";position: absolute;border-left: 1px solid gray;box-sizing: border-box;top: 0;bottom: 0;left: 50%;z-index: 0;}#sk-container-id-2 div.sk-serial {display: flex;flex-direction: column;align-items: center;background-color: white;padding-right: 0.2em;padding-left: 0.2em;position: relative;}#sk-container-id-2 div.sk-item {position: relative;z-index: 1;}#sk-container-id-2 div.sk-parallel {display: flex;align-items: stretch;justify-content: center;background-color: white;position: relative;}#sk-container-id-2 div.sk-item::before, #sk-container-id-2 div.sk-parallel-item::before {content: \"\";position: absolute;border-left: 1px solid gray;box-sizing: border-box;top: 0;bottom: 0;left: 50%;z-index: -1;}#sk-container-id-2 div.sk-parallel-item {display: flex;flex-direction: column;z-index: 1;position: relative;background-color: white;}#sk-container-id-2 div.sk-parallel-item:first-child::after {align-self: flex-end;width: 50%;}#sk-container-id-2 div.sk-parallel-item:last-child::after {align-self: flex-start;width: 50%;}#sk-container-id-2 div.sk-parallel-item:only-child::after {width: 0;}#sk-container-id-2 div.sk-dashed-wrapped {border: 1px dashed gray;margin: 0 0.4em 0.5em 0.4em;box-sizing: border-box;padding-bottom: 0.4em;background-color: white;}#sk-container-id-2 div.sk-label label {font-family: monospace;font-weight: bold;display: inline-block;line-height: 1.2em;}#sk-container-id-2 div.sk-label-container {text-align: center;}#sk-container-id-2 div.sk-container {/* jupyter's `normalize.less` sets `[hidden] { display: none; }` but bootstrap.min.css set `[hidden] { display: none !important; }` so we also need the `!important` here to be able to override the default hidden behavior on the sphinx rendered scikit-learn.org. See: https://github.com/scikit-learn/scikit-learn/issues/21755 */display: inline-block !important;position: relative;}#sk-container-id-2 div.sk-text-repr-fallback {display: none;}</style><div id=\"sk-container-id-2\" class=\"sk-top-container\"><div class=\"sk-text-repr-fallback\"><pre>XGBRegressor(base_score=None, booster=None, callbacks=None,\n",
              "             colsample_bylevel=None, colsample_bynode=None,\n",
              "             colsample_bytree=None, device=None, early_stopping_rounds=None,\n",
              "             enable_categorical=False, eval_metric=None, feature_types=None,\n",
              "             gamma=None, grow_policy=None, importance_type=None,\n",
              "             interaction_constraints=None, learning_rate=None, max_bin=None,\n",
              "             max_cat_threshold=None, max_cat_to_onehot=None,\n",
              "             max_delta_step=None, max_depth=None, max_leaves=None,\n",
              "             min_child_weight=None, missing=nan, monotone_constraints=None,\n",
              "             multi_strategy=None, n_estimators=None, n_jobs=None,\n",
              "             num_parallel_tree=None, random_state=None, ...)</pre><b>In a Jupyter environment, please rerun this cell to show the HTML representation or trust the notebook. <br />On GitHub, the HTML representation is unable to render, please try loading this page with nbviewer.org.</b></div><div class=\"sk-container\" hidden><div class=\"sk-item\"><div class=\"sk-estimator sk-toggleable\"><input class=\"sk-toggleable__control sk-hidden--visually\" id=\"sk-estimator-id-2\" type=\"checkbox\" checked><label for=\"sk-estimator-id-2\" class=\"sk-toggleable__label sk-toggleable__label-arrow\">XGBRegressor</label><div class=\"sk-toggleable__content\"><pre>XGBRegressor(base_score=None, booster=None, callbacks=None,\n",
              "             colsample_bylevel=None, colsample_bynode=None,\n",
              "             colsample_bytree=None, device=None, early_stopping_rounds=None,\n",
              "             enable_categorical=False, eval_metric=None, feature_types=None,\n",
              "             gamma=None, grow_policy=None, importance_type=None,\n",
              "             interaction_constraints=None, learning_rate=None, max_bin=None,\n",
              "             max_cat_threshold=None, max_cat_to_onehot=None,\n",
              "             max_delta_step=None, max_depth=None, max_leaves=None,\n",
              "             min_child_weight=None, missing=nan, monotone_constraints=None,\n",
              "             multi_strategy=None, n_estimators=None, n_jobs=None,\n",
              "             num_parallel_tree=None, random_state=None, ...)</pre></div></div></div></div></div>"
            ]
          },
          "metadata": {},
          "execution_count": 16
        }
      ],
      "source": [
        "# Create and train the model XGB\n",
        "model1 = xgb.XGBRegressor()\n",
        "model1.fit(train_data[features], train_data[target])"
      ]
    },
    {
      "cell_type": "code",
      "execution_count": null,
      "metadata": {
        "colab": {
          "base_uri": "https://localhost:8080/"
        },
        "id": "F07CiqfK5k2u",
        "outputId": "386eb8c9-fff0-44bb-af63-a5cfe0ed1523"
      },
      "outputs": [
        {
          "output_type": "stream",
          "name": "stdout",
          "text": [
            "Model Predictions: \n",
            "[4395.7505 4435.5894 4459.449  4402.786  4329.3555 4233.2793 4191.044\n",
            " 4246.757  4233.2793 4191.044  4059.0417 4164.9663 4246.757  4191.044\n",
            " 4059.0417 3958.1309 3958.1309 3958.1309 3850.3723 3958.1309 3958.1309\n",
            " 3958.1309 3958.1309 3904.8806 3850.3723 3958.1309 3850.3723 3958.1309\n",
            " 3958.1309 4089.8508 4164.9663 4059.0417 4089.8508 4164.9663 4164.9663\n",
            " 4089.8508 4164.9663 4094.255  3958.1309 3833.0667 3693.0825 3758.9297\n",
            " 3693.0825 3693.0825 3693.0825 3758.9297 3833.0667 3833.0667 3958.1309\n",
            " 3850.3723 3833.0667 3833.0667 3833.0667 3833.0667 3833.0667 3833.0667\n",
            " 3833.0667 3833.0667 3833.0667 3833.0667 3758.9297 3833.0667 3833.0667\n",
            " 3904.8806 3958.1309 3958.1309 3958.1309 3958.1309 3958.1309 3958.1309\n",
            " 3958.1309 4089.8508 4164.9663 4059.0417 4164.9663 4164.9663 4164.9663\n",
            " 4164.9663 4164.9663 4164.9663 4233.2793 4233.2793 4233.2793 4334.0205\n",
            " 4233.2793 4233.2793 4233.2793 4164.9663 4164.9663 4164.9663 4164.9663\n",
            " 4059.0417 3958.1309 3958.1309 3958.1309 3958.1309 3958.1309 3958.1309\n",
            " 3958.1309 3958.1309 3958.1309 4116.131  3958.1309 3958.1309 3958.1309\n",
            " 3833.0667 3833.0667 3833.0667 3833.0667 3833.0667 3693.0825 3693.0825\n",
            " 3693.0825 3693.0825 3693.0825 3581.2598 3635.039  3758.9297 3758.9297\n",
            " 3833.0667 3693.0825 3581.2598 3529.2905 3508.3025 3529.2905 3581.2598\n",
            " 3693.0825 3693.0825 3693.0825 3693.0825 3693.0825 3799.3354 3833.0667\n",
            " 3833.0667 3833.0667 3833.0667 3833.0667 3833.0667 3833.0667 3693.0825\n",
            " 3781.1082 3833.0667 3833.0667 3833.0667 3904.8806 3958.1309 3958.1309\n",
            " 3958.1309 3958.1309 3958.1309 3958.1309 3958.1309 3958.1309 3958.1309\n",
            " 3958.1309 3958.1309 3958.1309 3958.1309 3958.1309 3958.1309 3958.1309\n",
            " 3958.1309 3958.1309 3958.1309 3958.1309 3958.1309 3958.1309 3958.1309\n",
            " 3850.3723 3833.0667 3833.0667 3833.0667 3833.0667 3833.0667 3833.0667\n",
            " 3833.0667 3833.0667 3833.0667 3833.0667 3833.0667 3833.0667 3833.0667\n",
            " 3833.0667 3958.1309 3904.8806 3958.1309 3958.1309 3958.1309 3958.1309\n",
            " 3958.1309 3958.1309 3958.1309 3958.1309 3958.1309 3958.1309 3958.1309\n",
            " 3958.1309 3958.1309 3958.1309 4089.8508 4164.9663 4164.9663 4188.731\n",
            " 4164.9663 4164.9663 4059.0417 3958.1309 4148.8735 4164.9663 4164.9663\n",
            " 4164.9663 3958.1309 3958.1309 3958.1309 3958.1309 3958.1309 3958.1309\n",
            " 3958.1309 3958.1309 3958.1309 3958.1309 3958.1309 3958.1309 3958.1309\n",
            " 3958.1309 3850.3723 3833.0667 3904.8806 3833.0667 3904.8806 3958.1309\n",
            " 3958.1309 3958.1309 3958.1309 3958.1309 3958.1309 3958.1309 3958.1309\n",
            " 3958.1309 3958.1309 3958.1309 4188.731  4164.9663 3958.1309 3958.1309\n",
            " 3958.1309 4188.731  4164.9663 4164.9663 4164.9663 4164.9663 4164.9663\n",
            " 4164.9663 4164.9663 4164.9663 4164.9663 4094.255  3958.1309 4089.8508\n",
            " 4164.9663 4164.9663 4164.9663 4164.9663 3958.1309 4148.8735 4164.9663\n",
            " 4188.731  4164.9663 4164.9663 4164.9663 4164.9663 4164.9663 4164.9663\n",
            " 4164.9663 4165.868  4164.9663 4164.9663 4164.9663 4164.9663 4164.9663\n",
            " 4233.2793 4164.9663 4246.757  4233.2793 4290.404  4290.404  4290.404\n",
            " 4233.2793 4342.607  4342.607  4358.859  4342.607  4398.783  4437.9277\n",
            " 4367.759  4367.759  4358.859  4358.859  4342.607  4342.607  4358.859\n",
            " 4367.759  4456.9014 4459.449  4459.449  4395.7505 4395.7505 4395.7505\n",
            " 4432.9053 4476.386  4517.9204 4517.9204 4517.9204 4517.9204 4563.9995\n",
            " 4563.9995 4563.9995 4561.0044 4563.9995 4563.9995 4609.47   4609.47\n",
            " 4609.47   4563.9995 4517.9204 4517.9204 4517.9204 4517.9204 4483.19\n",
            " 4483.19   4517.9204 4459.449  4459.449  4459.449  4437.9277 4395.7505\n",
            " 4342.607  4395.7505 4395.7505 4395.7505 4401.18   4395.7505 4432.9053\n",
            " 4459.449  4517.9204 4517.9204 4517.9204 4517.9204 4462.268  4459.449\n",
            " 4459.449  4483.19   4459.449  4459.449  4483.19   4462.268  4459.449\n",
            " 4437.9277 4401.18   4329.3555 4342.607  4342.607  4297.4917 4233.2793\n",
            " 4290.404  4342.607  4233.2793 4233.2793 4233.2793 4233.2793 4305.4873\n",
            " 4334.0205 4342.607  4358.859  4329.3555 4342.607  4358.859  4342.607\n",
            " 4342.607  4342.607  4233.2793 4233.2793 4233.2793 4191.044  4164.9663\n",
            " 4164.9663 4164.9663 4164.9663 4253.267  4290.404  4342.607  4358.859\n",
            " 4358.859  4367.759  4367.759  4398.783  4395.7505 4476.386  4517.9204\n",
            " 4483.19   4517.9204 4517.9204 4561.0044 4563.9995 4563.9995 4563.9995\n",
            " 4561.0044 4563.9995 4563.9995 4609.47   4563.9995 4563.9995 4609.47\n",
            " 4609.47   4609.47   4609.47   4609.47   4693.814  4715.4087 4715.4087\n",
            " 4715.4087 4715.4087 4715.4087 4715.4087 4715.4087 4715.4087 4715.4087\n",
            " 4715.4087 4715.4087]\n"
          ]
        }
      ],
      "source": [
        "# Make the predictions\n",
        "predictions = model1.predict(test_data[features])\n",
        "print('Model Predictions: ')\n",
        "print(predictions)"
      ]
    },
    {
      "cell_type": "code",
      "execution_count": null,
      "metadata": {
        "colab": {
          "base_uri": "https://localhost:8080/"
        },
        "id": "DN8xREAl6Ci5",
        "outputId": "9119219a-086b-4d07-b841-e8279ec9fb69"
      },
      "outputs": [
        {
          "output_type": "stream",
          "name": "stdout",
          "text": [
            "Actual Values: \n",
            "Date\n",
            "2022-04-18    4391.689941\n",
            "2022-04-19    4462.209961\n",
            "2022-04-20    4459.450195\n",
            "2022-04-21    4393.660156\n",
            "2022-04-22    4271.779785\n",
            "                 ...     \n",
            "2023-12-22    4754.629883\n",
            "2023-12-26    4774.750000\n",
            "2023-12-27    4781.580078\n",
            "2023-12-28    4783.350098\n",
            "2023-12-29    4769.830078\n",
            "Name: Close, Length: 429, dtype: float64\n"
          ]
        }
      ],
      "source": [
        "# Show the actual values\n",
        "print('Actual Values: ')\n",
        "print(test_data[target])"
      ]
    },
    {
      "cell_type": "code",
      "execution_count": null,
      "metadata": {
        "colab": {
          "base_uri": "https://localhost:8080/"
        },
        "id": "w8vTWWsn6hjK",
        "outputId": "81fd31c0-e3df-4e94-b012-11713cc4f405"
      },
      "outputs": [
        {
          "output_type": "stream",
          "name": "stdout",
          "text": [
            "Accuracy: \n",
            "0.9726964698023663\n"
          ]
        }
      ],
      "source": [
        "# Model accuracy\n",
        "accuracy = model1.score(test_data[features], test_data[target])\n",
        "print('Accuracy: ')\n",
        "print(accuracy)"
      ]
    },
    {
      "cell_type": "code",
      "execution_count": null,
      "metadata": {
        "colab": {
          "base_uri": "https://localhost:8080/",
          "height": 434
        },
        "id": "VYvmWfMU7n_M",
        "outputId": "894b7755-ec23-47ac-b48f-02fab3a1add5"
      },
      "outputs": [
        {
          "output_type": "display_data",
          "data": {
            "text/plain": [
              "<Figure size 640x480 with 1 Axes>"
            ],
            "image/png": "[encoded data removed]"
          },
          "metadata": {}
        }
      ],
      "source": [
        "# Plot the predictions and close price\n",
        "plt.plot(data['Close'], label='Close Price')\n",
        "plt.plot(test_data[target].index, predictions, label = 'Predictions')\n",
        "plt.legend()\n",
        "plt.show()"
      ]
    },
    {
      "cell_type": "code",
      "source": [
        "# Linear Regression Algorithm\n",
        "from sklearn.linear_model import LinearRegression\n",
        "from sklearn import metrics"
      ],
      "metadata": {
        "id": "OpyYiGlhTiKi"
      },
      "execution_count": null,
      "outputs": []
    },
    {
      "cell_type": "code",
      "source": [
        "# Fit and train the model\n",
        "model2 = LinearRegression()\n",
        "model2.fit(train_data[features], train_data[target])"
      ],
      "metadata": {
        "colab": {
          "base_uri": "https://localhost:8080/",
          "height": 75
        },
        "id": "Q19Y4wFWT74W",
        "outputId": "bae90682-a3ae-401f-cd17-512f78057be0"
      },
      "execution_count": null,
      "outputs": [
        {
          "output_type": "execute_result",
          "data": {
            "text/plain": [
              "LinearRegression()"
            ],
            "text/html": [
              "<style>#sk-container-id-3 {color: black;background-color: white;}#sk-container-id-3 pre{padding: 0;}#sk-container-id-3 div.sk-toggleable {background-color: white;}#sk-container-id-3 label.sk-toggleable__label {cursor: pointer;display: block;width: 100%;margin-bottom: 0;padding: 0.3em;box-sizing: border-box;text-align: center;}#sk-container-id-3 label.sk-toggleable__label-arrow:before {content: \"▸\";float: left;margin-right: 0.25em;color: #696969;}#sk-container-id-3 label.sk-toggleable__label-arrow:hover:before {color: black;}#sk-container-id-3 div.sk-estimator:hover label.sk-toggleable__label-arrow:before {color: black;}#sk-container-id-3 div.sk-toggleable__content {max-height: 0;max-width: 0;overflow: hidden;text-align: left;background-color: #f0f8ff;}#sk-container-id-3 div.sk-toggleable__content pre {margin: 0.2em;color: black;border-radius: 0.25em;background-color: #f0f8ff;}#sk-container-id-3 input.sk-toggleable__control:checked~div.sk-toggleable__content {max-height: 200px;max-width: 100%;overflow: auto;}#sk-container-id-3 input.sk-toggleable__control:checked~label.sk-toggleable__label-arrow:before {content: \"▾\";}#sk-container-id-3 div.sk-estimator input.sk-toggleable__control:checked~label.sk-toggleable__label {background-color: #d4ebff;}#sk-container-id-3 div.sk-label input.sk-toggleable__control:checked~label.sk-toggleable__label {background-color: #d4ebff;}#sk-container-id-3 input.sk-hidden--visually {border: 0;clip: rect(1px 1px 1px 1px);clip: rect(1px, 1px, 1px, 1px);height: 1px;margin: -1px;overflow: hidden;padding: 0;position: absolute;width: 1px;}#sk-container-id-3 div.sk-estimator {font-family: monospace;background-color: #f0f8ff;border: 1px dotted black;border-radius: 0.25em;box-sizing: border-box;margin-bottom: 0.5em;}#sk-container-id-3 div.sk-estimator:hover {background-color: #d4ebff;}#sk-container-id-3 div.sk-parallel-item::after {content: \"\";width: 100%;border-bottom: 1px solid gray;flex-grow: 1;}#sk-container-id-3 div.sk-label:hover label.sk-toggleable__label {background-color: #d4ebff;}#sk-container-id-3 div.sk-serial::before {content: \"\";position: absolute;border-left: 1px solid gray;box-sizing: border-box;top: 0;bottom: 0;left: 50%;z-index: 0;}#sk-container-id-3 div.sk-serial {display: flex;flex-direction: column;align-items: center;background-color: white;padding-right: 0.2em;padding-left: 0.2em;position: relative;}#sk-container-id-3 div.sk-item {position: relative;z-index: 1;}#sk-container-id-3 div.sk-parallel {display: flex;align-items: stretch;justify-content: center;background-color: white;position: relative;}#sk-container-id-3 div.sk-item::before, #sk-container-id-3 div.sk-parallel-item::before {content: \"\";position: absolute;border-left: 1px solid gray;box-sizing: border-box;top: 0;bottom: 0;left: 50%;z-index: -1;}#sk-container-id-3 div.sk-parallel-item {display: flex;flex-direction: column;z-index: 1;position: relative;background-color: white;}#sk-container-id-3 div.sk-parallel-item:first-child::after {align-self: flex-end;width: 50%;}#sk-container-id-3 div.sk-parallel-item:last-child::after {align-self: flex-start;width: 50%;}#sk-container-id-3 div.sk-parallel-item:only-child::after {width: 0;}#sk-container-id-3 div.sk-dashed-wrapped {border: 1px dashed gray;margin: 0 0.4em 0.5em 0.4em;box-sizing: border-box;padding-bottom: 0.4em;background-color: white;}#sk-container-id-3 div.sk-label label {font-family: monospace;font-weight: bold;display: inline-block;line-height: 1.2em;}#sk-container-id-3 div.sk-label-container {text-align: center;}#sk-container-id-3 div.sk-container {/* jupyter's `normalize.less` sets `[hidden] { display: none; }` but bootstrap.min.css set `[hidden] { display: none !important; }` so we also need the `!important` here to be able to override the default hidden behavior on the sphinx rendered scikit-learn.org. See: https://github.com/scikit-learn/scikit-learn/issues/21755 */display: inline-block !important;position: relative;}#sk-container-id-3 div.sk-text-repr-fallback {display: none;}</style><div id=\"sk-container-id-3\" class=\"sk-top-container\"><div class=\"sk-text-repr-fallback\"><pre>LinearRegression()</pre><b>In a Jupyter environment, please rerun this cell to show the HTML representation or trust the notebook. <br />On GitHub, the HTML representation is unable to render, please try loading this page with nbviewer.org.</b></div><div class=\"sk-container\" hidden><div class=\"sk-item\"><div class=\"sk-estimator sk-toggleable\"><input class=\"sk-toggleable__control sk-hidden--visually\" id=\"sk-estimator-id-3\" type=\"checkbox\" checked><label for=\"sk-estimator-id-3\" class=\"sk-toggleable__label sk-toggleable__label-arrow\">LinearRegression</label><div class=\"sk-toggleable__content\"><pre>LinearRegression()</pre></div></div></div></div></div>"
            ]
          },
          "metadata": {},
          "execution_count": 22
        }
      ]
    },
    {
      "cell_type": "code",
      "source": [
        "# show the predictions and actual values\n",
        "pred = model2.predict(test_data[features])\n",
        "print(\"Prediction: \")\n",
        "print(pred)\n",
        "print(\"Actual Values: \")\n",
        "print(test_data[target])"
      ],
      "metadata": {
        "colab": {
          "base_uri": "https://localhost:8080/"
        },
        "id": "s0biatBLUME0",
        "outputId": "bc7fd7df-0100-4361-8c3e-c1157a8b5a6c"
      },
      "execution_count": null,
      "outputs": [
        {
          "output_type": "stream",
          "name": "stdout",
          "text": [
            "Prediction: \n",
            "[4395.36073655 4462.57055015 4467.75748401 4427.5537986  4292.18290546\n",
            " 4251.24497676 4196.42436745 4216.2655287  4272.66410865 4165.55521082\n",
            " 4111.77987858 4185.67039645 4269.11713095 4140.32802911 4106.82023629\n",
            " 3997.44706085 4004.32590684 3994.474953   3922.77405725 4030.99936692\n",
            " 4019.84799182 4072.22204705 3941.10943335 3923.21253166 3848.84057447\n",
            " 3967.07193825 3900.55541576 3988.38119411 4065.69219877 4149.98906038\n",
            " 4129.78959143 4104.58775455 4152.30038886 4111.11145829 4144.84985022\n",
            " 4144.78553265 4126.9791763  4050.33524669 3915.47888754 3755.87694015\n",
            " 3730.74344243 3796.89875523 3658.09901117 3680.28318285 3772.85940074\n",
            " 3781.85671251 3774.84281128 3904.07810349 3902.14605539 3868.94690421\n",
            " 3814.45496088 3778.00764288 3801.78145702 3787.99631155 3848.82579225\n",
            " 3905.09188567 3900.19749884 3854.00211745 3831.79246274 3807.85530405\n",
            " 3759.34638794 3858.05797025 3848.8164253  3931.52508234 3959.40390223\n",
            " 3972.58503603 3963.68555085 3956.43457791 3919.36409263 4030.3574102\n",
            " 4047.1281841  4128.08981324 4128.41579615 4117.22091003 4161.30575072\n",
            " 4144.95869678 4140.88422284 4161.9071194  4119.94202544 4204.68981701\n",
            " 4233.97522803 4270.39927137 4288.32775313 4311.40099856 4278.06992593\n",
            " 4281.4190602  4228.38176452 4143.26128142 4149.58681013 4147.99960592\n",
            " 4190.95767107 4090.92820434 4046.24877976 3984.26015862 3977.14347479\n",
            " 3940.42210258 3945.90493333 3906.21291298 3976.98068474 3993.13804216\n",
            " 4071.04890187 4115.35114055 3945.37026353 3936.94289994 3921.2942788\n",
            " 3846.0029838  3886.03399294 3837.9706457  3838.51802726 3763.74956958\n",
            " 3663.95565466 3682.08661772 3664.25654296 3718.95562417 3626.24336774\n",
            " 3628.36861188 3685.3027754  3785.01584668 3777.05280777 3769.15405057\n",
            " 3638.554476   3604.50993926 3614.2158258  3592.88037187 3645.78488299\n",
            " 3622.13729159 3684.27961508 3713.67545052 3696.82082892 3705.22907665\n",
            " 3739.79802847 3789.45055899 3856.14655394 3878.27010754 3832.69947384\n",
            " 3895.3199402  3877.47237062 3864.69330389 3815.58505683 3720.83010084\n",
            " 3747.18768919 3797.65018922 3830.55446782 3764.49730772 3948.09724116\n",
            " 3982.43074143 3988.49278845 3984.23265526 3964.38321579 3940.43146334\n",
            " 3954.19899317 3943.02159101 3994.6716438  4028.77799906 4030.56852993\n",
            " 3972.10433347 3954.22551206 4052.72870744 4070.19857624 4065.39757632\n",
            " 3998.77644944 3938.94200687 3946.4277558  3961.7611599  3957.71205004\n",
            " 3982.05343312 4037.19131693 4010.20648641 3895.75940741 3840.86685608\n",
            " 3812.01133311 3823.403726   3884.42944909 3782.88514633 3828.10491106\n",
            " 3822.22259483 3807.61504084 3852.55951127 3815.77611672 3829.0753019\n",
            " 3850.12935528 3809.9646046  3886.63429265 3930.14092368 3907.45345281\n",
            " 3962.93449219 3963.81982425 3989.04915722 4001.82243361 3952.92006697\n",
            " 3900.73783661 3957.37462684 4027.68885258 4011.91941179 3988.95286839\n",
            " 4040.68006991 4085.83141804 4035.43212055 4070.82979918 4114.73161776\n",
            " 4178.13285871 4166.89629852 4103.10610446 4155.64673645 4123.1748134\n",
            " 4095.82405558 4085.04066984 4131.18210446 4131.08730339 4132.63609814\n",
            " 4114.06713863 4057.51957612 4006.90254623 3995.79516661 3987.99458713\n",
            " 3953.61006042 4000.28389884 3988.64072184 3951.3825798  3976.95637614\n",
            " 4040.64408658 4067.48130532 3995.86362597 3984.73992575 3944.55805093\n",
            " 3879.14187489 3876.96632512 3916.52283129 3861.78787663 3943.83048452\n",
            " 3913.24257968 3951.8905389  4001.69466002 3983.40542531 3970.75948308\n",
            " 3945.31984962 3991.57316182 3960.51943313 4027.1258079  4044.83726777\n",
            " 4104.91581637 4122.06039347 4099.78901702 4081.50867067 4095.41676835\n",
            " 4096.72732122 4116.44605397 4105.3040068  4144.35473899 4139.28353703\n",
            " 4138.8671943  4149.74362803 4156.06239811 4133.8458254  4122.65417632\n",
            " 4129.73645921 4082.64169059 4058.80919775 4131.56138493 4163.70979089\n",
            " 4182.43550173 4105.05576959 4118.9825449  4055.21642924 4140.40685335\n",
            " 4131.02243858 4123.39028862 4117.50183467 4114.28429093 4111.76128353\n",
            " 4126.50676885 4120.15235522 4152.83014784 4194.07074301 4192.77519957\n",
            " 4198.25215694 4157.39975393 4109.74267516 4143.87922473 4206.81280391\n",
            " 4203.05448893 4175.20907986 4218.11880738 4285.31528869 4284.51962731\n",
            " 4279.75021455 4280.47455934 4288.68659334 4310.07222171 4333.44932153\n",
            " 4370.10946932 4366.44172622 4429.24574893 4420.89742494 4376.55292633\n",
            " 4369.5475784  4376.35647247 4354.81325841 4346.73636992 4377.45722515\n",
            " 4381.95248379 4393.31878269 4454.48154519 4449.0212732  4448.1920014\n",
            " 4392.60165784 4430.77803347 4406.98073187 4434.84760996 4482.36706235\n",
            " 4512.7095614  4514.18163479 4526.9325485  4552.16936099 4571.53952686\n",
            " 4542.15210966 4542.79153958 4559.35696169 4575.49302809 4570.74208476\n",
            " 4550.79834779 4585.94745932 4583.6731603  4574.73616337 4514.89684216\n",
            " 4509.68611766 4506.2082183  4516.27936872 4475.85605204 4470.22134525\n",
            " 4499.87400863 4467.99106307 4483.01443225 4441.65879365 4424.0889598\n",
            " 4379.68033486 4370.18550253 4388.67115155 4392.19749159 4438.10716971\n",
            " 4394.78970894 4389.0536704  4429.10693055 4492.14240667 4513.80110715\n",
            " 4522.75501864 4516.71698582 4502.39844683 4452.11992447 4451.86928277\n",
            " 4468.61452872 4479.07915155 4472.36861147 4470.12615431 4502.0042606\n",
            " 4457.53992446 4461.46671949 4426.30342505 4419.24531208 4339.53811404\n",
            " 4335.53394898 4329.09063859 4275.62497931 4256.03894037 4307.95990783\n",
            " 4290.21070188 4279.42001099 4237.58448118 4254.11980727 4239.62821787\n",
            " 4302.73070654 4331.93783027 4380.4083607  4360.29174063 4341.18509639\n",
            " 4336.77503351 4378.84288792 4382.27185713 4320.91963786 4296.57449624\n",
            " 4235.825191   4234.1996365  4243.73940111 4191.81917132 4144.53406996\n",
            " 4117.18584269 4168.19891158 4178.39110536 4238.03556999 4314.18231204\n",
            " 4369.29151256 4357.83390285 4375.35262408 4370.72403704 4355.37181468\n",
            " 4403.71088413 4409.73737425 4503.29425414 4511.31164362 4502.81290928\n",
            " 4510.87373438 4551.104077   4530.95622203 4560.19424144 4557.07874658\n",
            " 4552.82908642 4561.50829428 4566.18396352 4554.08479012 4591.26192336\n",
            " 4557.25455272 4571.63807007 4558.55100833 4585.45842178 4603.83364053\n",
            " 4620.27369117 4632.90725442 4700.56837778 4715.34170003 4716.46985993\n",
            " 4746.71532102 4765.78021113 4723.47673403 4733.27909035 4757.09530322\n",
            " 4781.39642612 4780.19850712 4787.90048718 4763.09669754]\n",
            "Actual Values: \n",
            "Date\n",
            "2022-04-18    4391.689941\n",
            "2022-04-19    4462.209961\n",
            "2022-04-20    4459.450195\n",
            "2022-04-21    4393.660156\n",
            "2022-04-22    4271.779785\n",
            "                 ...     \n",
            "2023-12-22    4754.629883\n",
            "2023-12-26    4774.750000\n",
            "2023-12-27    4781.580078\n",
            "2023-12-28    4783.350098\n",
            "2023-12-29    4769.830078\n",
            "Name: Close, Length: 429, dtype: float64\n"
          ]
        }
      ]
    },
    {
      "cell_type": "code",
      "source": [
        "# Get the accuracy of the model\n",
        "accuracyScore = model2.score(train_data[features], train_data[target])\n",
        "print(accuracyScore)\n",
        "accuracyMetric = metrics.r2_score(test_data[target], pred)\n",
        "print(f'Accuracy of the model: {accuracyMetric * 100:.2f}%')"
      ],
      "metadata": {
        "colab": {
          "base_uri": "https://localhost:8080/"
        },
        "id": "si1vMYHdUaCQ",
        "outputId": "21af42da-cfe3-4904-a0e2-4936c24ea993"
      },
      "execution_count": null,
      "outputs": [
        {
          "output_type": "stream",
          "name": "stdout",
          "text": [
            "0.9999469836153057\n",
            "Accuracy of the model: 99.68%\n"
          ]
        }
      ]
    },
    {
      "cell_type": "code",
      "source": [
        "# Tensorflow neural network algorithm\n",
        "!pip install tensorflow"
      ],
      "metadata": {
        "id": "ZBoW7WpjX3Yf"
      },
      "execution_count": null,
      "outputs": []
    },
    {
      "cell_type": "code",
      "source": [
        "# Import the necessary libraries\n",
        "import numpy as np\n",
        "from sklearn.model_selection import train_test_split\n",
        "from sklearn.preprocessing import MinMaxScaler\n",
        "from tensorflow.keras.models import Sequential\n",
        "from tensorflow.keras.layers import Dense, LSTM"
      ],
      "metadata": {
        "id": "nz6NwsVqYHgE"
      },
      "execution_count": null,
      "outputs": []
    },
    {
      "cell_type": "code",
      "source": [
        "# Select features (X) and target variable (y)\n",
        "featuresX = ['Open', 'High', 'Low']\n",
        "targetY = 'Close'\n",
        "\n",
        "X = data[features].values\n",
        "y = data[target].values.reshape(-1, 1)"
      ],
      "metadata": {
        "id": "-KLEpfM7Ykp9"
      },
      "execution_count": null,
      "outputs": []
    },
    {
      "cell_type": "code",
      "source": [
        "# Normalize the data\n",
        "scaler_X = MinMaxScaler()\n",
        "scaler_y = MinMaxScaler()\n",
        "\n",
        "X_scaled = scaler_X.fit_transform(X)\n",
        "y_scaled = scaler_y.fit_transform(y)"
      ],
      "metadata": {
        "id": "RO6FZrdiaQex"
      },
      "execution_count": null,
      "outputs": []
    },
    {
      "cell_type": "code",
      "source": [
        "# Split the dataset into training and testing sets (80% training, 20% testing)\n",
        "X_train, X_test, y_train, y_test = train_test_split(X_scaled, y_scaled, test_size=0.2, random_state=42)"
      ],
      "metadata": {
        "id": "pCNiCb3jbBFM"
      },
      "execution_count": null,
      "outputs": []
    },
    {
      "cell_type": "code",
      "source": [
        "# Define the neural network model\n",
        "model = Sequential()\n",
        "model.add(Dense(32, input_dim=X_train.shape[1], activation='relu'))\n",
        "model.add(Dense(16, activation='relu'))\n",
        "model.add(Dense(1, activation='linear'))"
      ],
      "metadata": {
        "id": "eGrscK5WbUy4"
      },
      "execution_count": null,
      "outputs": []
    },
    {
      "cell_type": "code",
      "source": [
        "# Compile the model\n",
        "model.compile(optimizer='adam', loss='mean_squared_error')"
      ],
      "metadata": {
        "id": "Un2Jc3iTbdKU"
      },
      "execution_count": null,
      "outputs": []
    },
    {
      "cell_type": "code",
      "source": [
        "# Train the model\n",
        "model.fit(X_train, y_train, epochs=50, batch_size=32, validation_data=(X_test, y_test), verbose=1)"
      ],
      "metadata": {
        "colab": {
          "base_uri": "https://localhost:8080/"
        },
        "id": "S9-hGebrbigd",
        "outputId": "d5d49682-5009-4ff8-d884-1325d7cea1a8"
      },
      "execution_count": null,
      "outputs": [
        {
          "output_type": "stream",
          "name": "stdout",
          "text": [
            "Epoch 1/50\n",
            "215/215 [==============================] - 6s 9ms/step - loss: 0.0066 - val_loss: 1.0803e-05\n",
            "Epoch 2/50\n",
            "215/215 [==============================] - 1s 5ms/step - loss: 1.1701e-05 - val_loss: 9.1151e-06\n",
            "Epoch 3/50\n",
            "215/215 [==============================] - 1s 4ms/step - loss: 1.1782e-05 - val_loss: 9.0573e-06\n",
            "Epoch 4/50\n",
            "215/215 [==============================] - 1s 3ms/step - loss: 1.1983e-05 - val_loss: 1.1563e-05\n",
            "Epoch 5/50\n",
            "215/215 [==============================] - 1s 4ms/step - loss: 1.1652e-05 - val_loss: 8.9273e-06\n",
            "Epoch 6/50\n",
            "215/215 [==============================] - 1s 3ms/step - loss: 1.1198e-05 - val_loss: 1.1886e-05\n",
            "Epoch 7/50\n",
            "215/215 [==============================] - 1s 3ms/step - loss: 1.1183e-05 - val_loss: 1.1457e-05\n",
            "Epoch 8/50\n",
            "215/215 [==============================] - 0s 2ms/step - loss: 1.1191e-05 - val_loss: 9.6684e-06\n",
            "Epoch 9/50\n",
            "215/215 [==============================] - 1s 3ms/step - loss: 1.1431e-05 - val_loss: 8.9293e-06\n",
            "Epoch 10/50\n",
            "215/215 [==============================] - 1s 2ms/step - loss: 1.0989e-05 - val_loss: 9.3783e-06\n",
            "Epoch 11/50\n",
            "215/215 [==============================] - 0s 2ms/step - loss: 1.1483e-05 - val_loss: 8.9707e-06\n",
            "Epoch 12/50\n",
            "215/215 [==============================] - 0s 2ms/step - loss: 1.0816e-05 - val_loss: 1.0530e-05\n",
            "Epoch 13/50\n",
            "215/215 [==============================] - 0s 2ms/step - loss: 1.1024e-05 - val_loss: 8.5679e-06\n",
            "Epoch 14/50\n",
            "215/215 [==============================] - 1s 3ms/step - loss: 1.0432e-05 - val_loss: 8.8090e-06\n",
            "Epoch 15/50\n",
            "215/215 [==============================] - 1s 5ms/step - loss: 1.0833e-05 - val_loss: 1.0794e-05\n",
            "Epoch 16/50\n",
            "215/215 [==============================] - 1s 4ms/step - loss: 1.1210e-05 - val_loss: 8.0005e-06\n",
            "Epoch 17/50\n",
            "215/215 [==============================] - 1s 4ms/step - loss: 1.0226e-05 - val_loss: 9.0526e-06\n",
            "Epoch 18/50\n",
            "215/215 [==============================] - 1s 4ms/step - loss: 1.1255e-05 - val_loss: 7.6694e-06\n",
            "Epoch 19/50\n",
            "215/215 [==============================] - 1s 3ms/step - loss: 1.0351e-05 - val_loss: 7.8769e-06\n",
            "Epoch 20/50\n",
            "215/215 [==============================] - 1s 2ms/step - loss: 1.0112e-05 - val_loss: 1.0912e-05\n",
            "Epoch 21/50\n",
            "215/215 [==============================] - 1s 3ms/step - loss: 9.9237e-06 - val_loss: 7.1043e-06\n",
            "Epoch 22/50\n",
            "215/215 [==============================] - 1s 3ms/step - loss: 1.1152e-05 - val_loss: 1.9851e-05\n",
            "Epoch 23/50\n",
            "215/215 [==============================] - 1s 3ms/step - loss: 1.2044e-05 - val_loss: 8.2945e-06\n",
            "Epoch 24/50\n",
            "215/215 [==============================] - 0s 2ms/step - loss: 1.1154e-05 - val_loss: 4.0059e-05\n",
            "Epoch 25/50\n",
            "215/215 [==============================] - 1s 3ms/step - loss: 1.1284e-05 - val_loss: 7.2493e-06\n",
            "Epoch 26/50\n",
            "215/215 [==============================] - 0s 2ms/step - loss: 1.0731e-05 - val_loss: 1.2261e-05\n",
            "Epoch 27/50\n",
            "215/215 [==============================] - 0s 2ms/step - loss: 1.0535e-05 - val_loss: 1.1517e-05\n",
            "Epoch 28/50\n",
            "215/215 [==============================] - 0s 2ms/step - loss: 1.0388e-05 - val_loss: 1.6892e-05\n",
            "Epoch 29/50\n",
            "215/215 [==============================] - 0s 2ms/step - loss: 1.0259e-05 - val_loss: 8.5607e-06\n",
            "Epoch 30/50\n",
            "215/215 [==============================] - 0s 2ms/step - loss: 1.0640e-05 - val_loss: 9.6522e-06\n",
            "Epoch 31/50\n",
            "215/215 [==============================] - 1s 2ms/step - loss: 9.8114e-06 - val_loss: 6.5689e-06\n",
            "Epoch 32/50\n",
            "215/215 [==============================] - 0s 2ms/step - loss: 9.9042e-06 - val_loss: 8.0967e-06\n",
            "Epoch 33/50\n",
            "215/215 [==============================] - 0s 2ms/step - loss: 1.0102e-05 - val_loss: 7.4633e-06\n",
            "Epoch 34/50\n",
            "215/215 [==============================] - 0s 2ms/step - loss: 1.0152e-05 - val_loss: 6.3606e-06\n",
            "Epoch 35/50\n",
            "215/215 [==============================] - 1s 3ms/step - loss: 1.2009e-05 - val_loss: 7.3202e-06\n",
            "Epoch 36/50\n",
            "215/215 [==============================] - 1s 2ms/step - loss: 1.2076e-05 - val_loss: 6.6589e-06\n",
            "Epoch 37/50\n",
            "215/215 [==============================] - 1s 3ms/step - loss: 9.3483e-06 - val_loss: 6.4284e-06\n",
            "Epoch 38/50\n",
            "215/215 [==============================] - 1s 4ms/step - loss: 8.9121e-06 - val_loss: 6.5921e-06\n",
            "Epoch 39/50\n",
            "215/215 [==============================] - 1s 4ms/step - loss: 8.9887e-06 - val_loss: 9.1583e-06\n",
            "Epoch 40/50\n",
            "215/215 [==============================] - 1s 4ms/step - loss: 9.9236e-06 - val_loss: 8.2553e-06\n",
            "Epoch 41/50\n",
            "215/215 [==============================] - 1s 3ms/step - loss: 8.7457e-06 - val_loss: 5.9221e-06\n",
            "Epoch 42/50\n",
            "215/215 [==============================] - 1s 4ms/step - loss: 1.1890e-05 - val_loss: 1.9083e-05\n",
            "Epoch 43/50\n",
            "215/215 [==============================] - 1s 3ms/step - loss: 9.5523e-06 - val_loss: 6.2167e-06\n",
            "Epoch 44/50\n",
            "215/215 [==============================] - 0s 2ms/step - loss: 8.5740e-06 - val_loss: 7.3940e-06\n",
            "Epoch 45/50\n",
            "215/215 [==============================] - 1s 2ms/step - loss: 8.3614e-06 - val_loss: 6.8515e-06\n",
            "Epoch 46/50\n",
            "215/215 [==============================] - 0s 2ms/step - loss: 9.4400e-06 - val_loss: 6.8208e-06\n",
            "Epoch 47/50\n",
            "215/215 [==============================] - 0s 2ms/step - loss: 8.8236e-06 - val_loss: 1.7404e-05\n",
            "Epoch 48/50\n",
            "215/215 [==============================] - 1s 2ms/step - loss: 9.2617e-06 - val_loss: 1.6956e-05\n",
            "Epoch 49/50\n",
            "215/215 [==============================] - 1s 2ms/step - loss: 9.1604e-06 - val_loss: 6.4229e-06\n",
            "Epoch 50/50\n",
            "215/215 [==============================] - 1s 3ms/step - loss: 9.7477e-06 - val_loss: 1.1526e-05\n"
          ]
        },
        {
          "output_type": "execute_result",
          "data": {
            "text/plain": [
              "<keras.src.callbacks.History at 0x7f56620dfeb0>"
            ]
          },
          "metadata": {},
          "execution_count": 39
        }
      ]
    },
    {
      "cell_type": "code",
      "source": [
        "# Make predictions on the test set\n",
        "y_pred_scaled = model.predict(X_test)"
      ],
      "metadata": {
        "colab": {
          "base_uri": "https://localhost:8080/"
        },
        "id": "k_0M0f_0bx2k",
        "outputId": "cb7fb251-e773-42c0-d083-cb725d823ef9"
      },
      "execution_count": null,
      "outputs": [
        {
          "output_type": "stream",
          "name": "stdout",
          "text": [
            "54/54 [==============================] - 0s 1ms/step\n"
          ]
        }
      ]
    },
    {
      "cell_type": "code",
      "source": [
        "# Inverse transform to get back the original scale\n",
        "y_pred = scaler_y.inverse_transform(y_pred_scaled)\n",
        "y_test_orig = scaler_y.inverse_transform(y_test)"
      ],
      "metadata": {
        "id": "V9GFUrIBb3NF"
      },
      "execution_count": null,
      "outputs": []
    },
    {
      "cell_type": "code",
      "source": [
        "# Print the predictions and actual values\n",
        "print(\"Predictions: \")\n",
        "print(y_pred)\n",
        "print(\"Actual values: \")\n",
        "print(y_test_orig)"
      ],
      "metadata": {
        "colab": {
          "base_uri": "https://localhost:8080/"
        },
        "id": "GzbHztZMcCYf",
        "outputId": "bea6d356-f9aa-4b16-c32c-59cb2ff49c73"
      },
      "execution_count": null,
      "outputs": [
        {
          "output_type": "stream",
          "name": "stdout",
          "text": [
            "Predictions: \n",
            "[[1964.9492 ]\n",
            " [ 887.26776]\n",
            " [2840.1353 ]\n",
            " ...\n",
            " [4182.5166 ]\n",
            " [ 419.2603 ]\n",
            " [1192.1168 ]]\n",
            "Actual values: \n",
            "[[1957.2199707 ]\n",
            " [ 878.28997803]\n",
            " [2822.23999023]\n",
            " ...\n",
            " [4164.66015625]\n",
            " [ 413.5       ]\n",
            " [1186.86999512]]\n"
          ]
        }
      ]
    },
    {
      "cell_type": "code",
      "source": [
        "from sklearn.metrics import mean_squared_error\n",
        "\n",
        "# Calculate Mean Squared Error on the test set\n",
        "mse = mean_squared_error(y_test_orig, y_pred)\n",
        "print(f'Mean Squared Error on the test set: {mse:.2f}')\n",
        "\n",
        "# Determine the accuracy of the model\n",
        "accuracyNeural = metrics.r2_score(y_test_orig, y_pred)\n",
        "print(f\"The accuracy is {accuracy * 100:.4f}%\")"
      ],
      "metadata": {
        "colab": {
          "base_uri": "https://localhost:8080/"
        },
        "id": "Tby1V6w9dLWL",
        "outputId": "bfd361a2-344c-4248-ad3d-f88bbb9af8c5"
      },
      "execution_count": null,
      "outputs": [
        {
          "output_type": "stream",
          "name": "stdout",
          "text": [
            "Mean Squared Error on the test set: 233.51\n",
            "The accuracy is 97.2696%\n"
          ]
        }
      ]
    }
  ],
  "metadata": {
    "colab": {
      "provenance": [],
      "authorship_tag": "ABX9TyPzaxIH77aoQkN+vIUss32V",
      "include_colab_link": true
    },
    "kernelspec": {
      "display_name": "Python 3",
      "name": "python3"
    },
    "language_info": {
      "name": "python"
    }
  },
  "nbformat": 4,
  "nbformat_minor": 0
}